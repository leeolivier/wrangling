{
 "cells": [
  {
   "cell_type": "code",
   "execution_count": 1,
   "id": "1eb9f92b",
   "metadata": {
    "scrolled": false
   },
   "outputs": [],
   "source": [
    "#import pandas as pd\n",
    "#import numpy as np\n",
    "#csv_df = pd.read_csv(\"sample_file.csv\")\n",
    "#csv_df.to_csv(\"sample_file.csv\", index = False)\n",
    "#excel_pd = pd.read_excel(\"sample_file.xlsx\")\n",
    "#excle_pd .to_excel(\"sample_fle.xlsx\")\n",
    "#html_pd = pd.read_html(\"http://webpage.com/sampledata.html\")\n",
    "#html_pd.to_html(\"sample_file.html\")\n"
   ]
  },
  {
   "cell_type": "code",
   "execution_count": 10,
   "id": "a8645720",
   "metadata": {},
   "outputs": [],
   "source": [
    "import pandas as pd\n",
    "import numpy as np\n",
    "url = \"http://github.com/WalePhenomenon/climate_change/blob/master/fuel_ferc1.csv?raw=true\"\n",
    "fuel_data = pd.read_csv(url, error_bad_lines = False)\n",
    "fuel_data.describe(include = \"all\")# desribe data\n",
    "fuel_data.isnull().sum()#check for NaN\n",
    "fuel_data.groupby(\"fuel_unit\")[\"fuel_unit\"].count()#count unique values\n",
    "fuel_data[[\"fuel_unit\"]] = fuel_data[[\"fuel_unit\"]].fillna(value = \"mcf\")\n",
    "#fuel_data.isnull().sum()#check if all is ok\n",
    "#fuel_data.groupby(\"report_year\")[\"report_year\"].count()\n"
   ]
  },
  {
   "cell_type": "code",
   "execution_count": 11,
   "id": "4c18764a",
   "metadata": {},
   "outputs": [],
   "source": [
    "#fuel_data.groupby(\"fuel_type_code_pudl\").first()#group by col in df \"fuel_type\""
   ]
  },
  {
   "cell_type": "code",
   "execution_count": 62,
   "id": "c18524a3",
   "metadata": {},
   "outputs": [
    {
     "data": {
      "text/html": [
       "<div>\n",
       "<style scoped>\n",
       "    .dataframe tbody tr th:only-of-type {\n",
       "        vertical-align: middle;\n",
       "    }\n",
       "\n",
       "    .dataframe tbody tr th {\n",
       "        vertical-align: top;\n",
       "    }\n",
       "\n",
       "    .dataframe thead th {\n",
       "        text-align: right;\n",
       "    }\n",
       "</style>\n",
       "<table border=\"1\" class=\"dataframe\">\n",
       "  <thead>\n",
       "    <tr style=\"text-align: right;\">\n",
       "      <th></th>\n",
       "      <th>record_id</th>\n",
       "      <th>utility_id_ferc1</th>\n",
       "      <th>report_year</th>\n",
       "      <th>plant_name_ferc1</th>\n",
       "      <th>fuel_type_code_pudl</th>\n",
       "      <th>fuel_unit</th>\n",
       "      <th>fuel_qty_burned</th>\n",
       "      <th>fuel_mmbtu_per_unit</th>\n",
       "      <th>fuel_cost_per_unit_burned</th>\n",
       "      <th>fuel_cost_per_unit_delivered</th>\n",
       "      <th>fuel_cost_per_mmbtu</th>\n",
       "    </tr>\n",
       "  </thead>\n",
       "  <tbody>\n",
       "  </tbody>\n",
       "</table>\n",
       "</div>"
      ],
      "text/plain": [
       "Empty DataFrame\n",
       "Columns: [record_id, utility_id_ferc1, report_year, plant_name_ferc1, fuel_type_code_pudl, fuel_unit, fuel_qty_burned, fuel_mmbtu_per_unit, fuel_cost_per_unit_burned, fuel_cost_per_unit_delivered, fuel_cost_per_mmbtu]\n",
       "Index: []"
      ]
     },
     "execution_count": 62,
     "metadata": {},
     "output_type": "execute_result"
    }
   ],
   "source": [
    "#split fuel_data into two groups\n",
    "fuel_df1 = fuel_data.iloc[0 : 19000].reset_index(drop = True)\n",
    "fuel_df2 = fuel_data.iloc[19000 : ].reset_index(drop = True)\n",
    "assert len(fuel_data) == (len(fuel_df1) + len(fuel_df2))#check length \n",
    "#pd.merge(fuel_df1, fuel_df2, how = \"inner\")# inner merge lose rows not common\n"
   ]
  },
  {
   "cell_type": "code",
   "execution_count": 12,
   "id": "13fbc739",
   "metadata": {},
   "outputs": [],
   "source": [
    "#pd.merge(fuel_df1, fuel_df2, how = \"outer\")#all rows"
   ]
  },
  {
   "cell_type": "code",
   "execution_count": 6,
   "id": "626683c4",
   "metadata": {},
   "outputs": [],
   "source": [
    "#pd.concat([fuel_data, data_to_concat]).reset_index(drop = True)# join and keep index"
   ]
  },
  {
   "cell_type": "code",
   "execution_count": 13,
   "id": "9353f930",
   "metadata": {},
   "outputs": [],
   "source": [
    "#fuel_data.duplicated().any()"
   ]
  },
  {
   "cell_type": "code",
   "execution_count": 22,
   "id": "339d3179",
   "metadata": {},
   "outputs": [
    {
     "data": {
      "text/plain": [
       "Text(0.5, 0, 'Fuel Unit')"
      ]
     },
     "execution_count": 22,
     "metadata": {},
     "output_type": "execute_result"
    },
    {
     "data": {
      "image/png": "[encoded data removed]",
      "text/plain": [
       "<Figure size 720x360 with 1 Axes>"
      ]
     },
     "metadata": {
      "needs_background": "light"
     },
     "output_type": "display_data"
    }
   ],
   "source": [
    "# plot data\n",
    "import matplotlib.pyplot as plt\n",
    "import seaborn as sns\n",
    "plt.figure(figsize = (10,5))\n",
    "plt.xticks(rotation = 90)\n",
    "fuel_unit = pd.DataFrame({\"unit\" : [\"BBL\", \"GAL\", \"GRAMSU\", \"KGU\", \"MCF\", \"MMBTU\", \"MWDTH\", \"MWHTH\", \"TON\"],\n",
    "                         \"count\" : [7998, 84, 464, 110, 11354, 180, 95, 100, 8958]})\n",
    "sns.barplot(data = fuel_unit, x = \"unit\", y = \"count\")\n",
    "plt.xlabel(\"Fuel Unit\")\n",
    "#plt.ylabel(\"Quantity\")"
   ]
  },
  {
   "cell_type": "code",
   "execution_count": 26,
   "id": "43164080",
   "metadata": {},
   "outputs": [
    {
     "data": {
      "text/plain": [
       "Text(0.5, 0, 'Fuel Unit')"
      ]
     },
     "execution_count": 26,
     "metadata": {},
     "output_type": "execute_result"
    },
    {
     "data": {
      "image/png": "[encoded data removed]",
      "text/plain": [
       "<Figure size 720x360 with 1 Axes>"
      ]
     },
     "metadata": {
      "needs_background": "light"
     },
     "output_type": "display_data"
    }
   ],
   "source": [
    "# extreme range. use log arg for better comparison\n",
    "plt.figure(figsize = (10,5))\n",
    "g = sns.barplot(data = fuel_unit, x = \"unit\", y = \"count\")\n",
    "g.set_yscale(\"log\")\n",
    "g.set_ylim(1, 12000)\n",
    "plt.xlabel(\"Fuel Unit\")"
   ]
  },
  {
   "cell_type": "code",
   "execution_count": 29,
   "id": "b05b4368",
   "metadata": {},
   "outputs": [
    {
     "data": {
      "text/plain": [
       "<AxesSubplot:xlabel='utility_id_ferc1', ylabel='fuel_cost_per_mmbtu'>"
      ]
     },
     "execution_count": 29,
     "metadata": {},
     "output_type": "execute_result"
    },
    {
     "data": {
      "image/png": "[encoded data removed]",
      "text/plain": [
       "<Figure size 432x288 with 1 Axes>"
      ]
     },
     "metadata": {
      "needs_background": "light"
     },
     "output_type": "display_data"
    }
   ],
   "source": [
    "#select a random sample to plot\n",
    "sample_df = fuel_data.sample(n = 50, random_state = 4)\n",
    "sns.regplot(x = sample_df[\"utility_id_ferc1\"], y = sample_df[\"fuel_cost_per_mmbtu\"], fit_reg = False)"
   ]
  },
  {
   "cell_type": "code",
   "execution_count": 30,
   "id": "2a9048e3",
   "metadata": {},
   "outputs": [
    {
     "data": {
      "text/plain": [
       "<AxesSubplot:xlabel='fuel_type_code_pudl', ylabel='utility_id_ferc1'>"
      ]
     },
     "execution_count": 30,
     "metadata": {},
     "output_type": "execute_result"
    },
    {
     "data": {
      "image/png": "[encoded data removed]",
      "text/plain": [
       "<Figure size 432x288 with 1 Axes>"
      ]
     },
     "metadata": {
      "needs_background": "light"
     },
     "output_type": "display_data"
    }
   ],
   "source": [
    "# box plot\n",
    "sns.boxplot(x = \"fuel_type_code_pudl\", y = \"utility_id_ferc1\", palette = [\"m\", \"g\"], data = fuel_data)"
   ]
  },
  {
   "cell_type": "code",
   "execution_count": 32,
   "id": "8191b005",
   "metadata": {},
   "outputs": [
    {
     "data": {
      "text/plain": [
       "<AxesSubplot:xlabel='fuel_cost_per_unit_burned', ylabel='Density'>"
      ]
     },
     "execution_count": 32,
     "metadata": {},
     "output_type": "execute_result"
    },
    {
     "data": {
      "image/png": "[encoded data removed]",
      "text/plain": [
       "<Figure size 432x288 with 1 Axes>"
      ]
     },
     "metadata": {
      "needs_background": "light"
     },
     "output_type": "display_data"
    }
   ],
   "source": [
    "#kernel density estimate (kde) plot\n",
    "sns.kdeplot(sample_df[\"fuel_cost_per_unit_burned\"], shade = True, color = \"b\")"
   ]
  },
  {
   "cell_type": "code",
   "execution_count": null,
   "id": "5b940c62",
   "metadata": {},
   "outputs": [],
   "source": []
  }
 ],
 "metadata": {
  "kernelspec": {
   "display_name": "Python 3",
   "language": "python",
   "name": "python3"
  },
  "language_info": {
   "codemirror_mode": {
    "name": "ipython",
    "version": 3
   },
   "file_extension": ".py",
   "mimetype": "text/x-python",
   "name": "python",
   "nbconvert_exporter": "python",
   "pygments_lexer": "ipython3",
   "version": "3.8.8"
  }
 },
 "nbformat": 4,
 "nbformat_minor": 5
}
